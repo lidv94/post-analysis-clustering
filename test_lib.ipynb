{
 "cells": [
  {
   "cell_type": "code",
   "execution_count": 1,
   "id": "6ec1518f-d6cd-433b-ad44-bcfa60cce0f0",
   "metadata": {
    "tags": []
   },
   "outputs": [
    {
     "name": "stdout",
     "output_type": "stream",
     "text": [
      "Collecting post-analysis-clustering\n",
      "  Downloading post_analysis_clustering-0.1.5-py3-none-any.whl.metadata (2.6 kB)\n",
      "Collecting ipykernel>=6.29.5 (from post-analysis-clustering)\n",
      "  Using cached ipykernel-6.29.5-py3-none-any.whl.metadata (6.3 kB)\n",
      "Collecting matplotlib>=3.10.1 (from post-analysis-clustering)\n",
      "  Downloading matplotlib-3.10.3-cp310-cp310-manylinux_2_17_x86_64.manylinux2014_x86_64.whl.metadata (11 kB)\n",
      "Requirement already satisfied: plotly>=6.0.1 in /home/ec2-user/anaconda3/envs/JupyterSystemEnv/lib/python3.10/site-packages (from post-analysis-clustering) (6.1.2)\n",
      "Collecting scikit-learn>=1.6.1 (from post-analysis-clustering)\n",
      "  Downloading scikit_learn-1.7.0-cp310-cp310-manylinux_2_17_x86_64.manylinux2014_x86_64.whl.metadata (17 kB)\n",
      "Collecting seaborn>=0.13.2 (from post-analysis-clustering)\n",
      "  Downloading seaborn-0.13.2-py3-none-any.whl.metadata (5.4 kB)\n",
      "Requirement already satisfied: comm>=0.1.1 in /home/ec2-user/anaconda3/envs/JupyterSystemEnv/lib/python3.10/site-packages (from ipykernel>=6.29.5->post-analysis-clustering) (0.2.2)\n",
      "Requirement already satisfied: debugpy>=1.6.5 in /home/ec2-user/anaconda3/envs/JupyterSystemEnv/lib/python3.10/site-packages (from ipykernel>=6.29.5->post-analysis-clustering) (1.8.14)\n",
      "Requirement already satisfied: ipython>=7.23.1 in /home/ec2-user/anaconda3/envs/JupyterSystemEnv/lib/python3.10/site-packages (from ipykernel>=6.29.5->post-analysis-clustering) (8.37.0)\n",
      "Requirement already satisfied: jupyter-client>=6.1.12 in /home/ec2-user/anaconda3/envs/JupyterSystemEnv/lib/python3.10/site-packages (from ipykernel>=6.29.5->post-analysis-clustering) (7.4.9)\n",
      "Requirement already satisfied: jupyter-core!=5.0.*,>=4.12 in /home/ec2-user/anaconda3/envs/JupyterSystemEnv/lib/python3.10/site-packages (from ipykernel>=6.29.5->post-analysis-clustering) (5.8.1)\n",
      "Requirement already satisfied: matplotlib-inline>=0.1 in /home/ec2-user/anaconda3/envs/JupyterSystemEnv/lib/python3.10/site-packages (from ipykernel>=6.29.5->post-analysis-clustering) (0.1.7)\n",
      "Requirement already satisfied: nest-asyncio in /home/ec2-user/anaconda3/envs/JupyterSystemEnv/lib/python3.10/site-packages (from ipykernel>=6.29.5->post-analysis-clustering) (1.6.0)\n",
      "Requirement already satisfied: packaging in /home/ec2-user/anaconda3/envs/JupyterSystemEnv/lib/python3.10/site-packages (from ipykernel>=6.29.5->post-analysis-clustering) (24.2)\n",
      "Requirement already satisfied: psutil in /home/ec2-user/anaconda3/envs/JupyterSystemEnv/lib/python3.10/site-packages (from ipykernel>=6.29.5->post-analysis-clustering) (7.0.0)\n",
      "Requirement already satisfied: pyzmq>=24 in /home/ec2-user/anaconda3/envs/JupyterSystemEnv/lib/python3.10/site-packages (from ipykernel>=6.29.5->post-analysis-clustering) (26.2.0)\n",
      "Requirement already satisfied: tornado>=6.1 in /home/ec2-user/anaconda3/envs/JupyterSystemEnv/lib/python3.10/site-packages (from ipykernel>=6.29.5->post-analysis-clustering) (6.5.1)\n",
      "Requirement already satisfied: traitlets>=5.4.0 in /home/ec2-user/anaconda3/envs/JupyterSystemEnv/lib/python3.10/site-packages (from ipykernel>=6.29.5->post-analysis-clustering) (5.14.3)\n",
      "Requirement already satisfied: decorator in /home/ec2-user/anaconda3/envs/JupyterSystemEnv/lib/python3.10/site-packages (from ipython>=7.23.1->ipykernel>=6.29.5->post-analysis-clustering) (5.2.1)\n",
      "Requirement already satisfied: exceptiongroup in /home/ec2-user/anaconda3/envs/JupyterSystemEnv/lib/python3.10/site-packages (from ipython>=7.23.1->ipykernel>=6.29.5->post-analysis-clustering) (1.3.0)\n",
      "Requirement already satisfied: jedi>=0.16 in /home/ec2-user/anaconda3/envs/JupyterSystemEnv/lib/python3.10/site-packages (from ipython>=7.23.1->ipykernel>=6.29.5->post-analysis-clustering) (0.19.2)\n",
      "Requirement already satisfied: pexpect>4.3 in /home/ec2-user/anaconda3/envs/JupyterSystemEnv/lib/python3.10/site-packages (from ipython>=7.23.1->ipykernel>=6.29.5->post-analysis-clustering) (4.9.0)\n",
      "Requirement already satisfied: prompt_toolkit<3.1.0,>=3.0.41 in /home/ec2-user/anaconda3/envs/JupyterSystemEnv/lib/python3.10/site-packages (from ipython>=7.23.1->ipykernel>=6.29.5->post-analysis-clustering) (3.0.51)\n",
      "Requirement already satisfied: pygments>=2.4.0 in /home/ec2-user/anaconda3/envs/JupyterSystemEnv/lib/python3.10/site-packages (from ipython>=7.23.1->ipykernel>=6.29.5->post-analysis-clustering) (2.19.1)\n",
      "Requirement already satisfied: stack_data in /home/ec2-user/anaconda3/envs/JupyterSystemEnv/lib/python3.10/site-packages (from ipython>=7.23.1->ipykernel>=6.29.5->post-analysis-clustering) (0.6.3)\n",
      "Requirement already satisfied: typing_extensions>=4.6 in /home/ec2-user/anaconda3/envs/JupyterSystemEnv/lib/python3.10/site-packages (from ipython>=7.23.1->ipykernel>=6.29.5->post-analysis-clustering) (4.14.0)\n",
      "Requirement already satisfied: wcwidth in /home/ec2-user/anaconda3/envs/JupyterSystemEnv/lib/python3.10/site-packages (from prompt_toolkit<3.1.0,>=3.0.41->ipython>=7.23.1->ipykernel>=6.29.5->post-analysis-clustering) (0.2.13)\n",
      "Requirement already satisfied: parso<0.9.0,>=0.8.4 in /home/ec2-user/anaconda3/envs/JupyterSystemEnv/lib/python3.10/site-packages (from jedi>=0.16->ipython>=7.23.1->ipykernel>=6.29.5->post-analysis-clustering) (0.8.4)\n",
      "Requirement already satisfied: entrypoints in /home/ec2-user/anaconda3/envs/JupyterSystemEnv/lib/python3.10/site-packages (from jupyter-client>=6.1.12->ipykernel>=6.29.5->post-analysis-clustering) (0.4)\n",
      "Requirement already satisfied: python-dateutil>=2.8.2 in /home/ec2-user/anaconda3/envs/JupyterSystemEnv/lib/python3.10/site-packages (from jupyter-client>=6.1.12->ipykernel>=6.29.5->post-analysis-clustering) (2.9.0.post0)\n",
      "Requirement already satisfied: platformdirs>=2.5 in /home/ec2-user/anaconda3/envs/JupyterSystemEnv/lib/python3.10/site-packages (from jupyter-core!=5.0.*,>=4.12->ipykernel>=6.29.5->post-analysis-clustering) (4.3.8)\n",
      "Collecting contourpy>=1.0.1 (from matplotlib>=3.10.1->post-analysis-clustering)\n",
      "  Downloading contourpy-1.3.2-cp310-cp310-manylinux_2_17_x86_64.manylinux2014_x86_64.whl.metadata (5.5 kB)\n",
      "Collecting cycler>=0.10 (from matplotlib>=3.10.1->post-analysis-clustering)\n",
      "  Downloading cycler-0.12.1-py3-none-any.whl.metadata (3.8 kB)\n",
      "Collecting fonttools>=4.22.0 (from matplotlib>=3.10.1->post-analysis-clustering)\n",
      "  Downloading fonttools-4.58.2-cp310-cp310-manylinux_2_17_x86_64.manylinux2014_x86_64.whl.metadata (106 kB)\n",
      "Collecting kiwisolver>=1.3.1 (from matplotlib>=3.10.1->post-analysis-clustering)\n",
      "  Downloading kiwisolver-1.4.8-cp310-cp310-manylinux_2_12_x86_64.manylinux2010_x86_64.whl.metadata (6.2 kB)\n",
      "Requirement already satisfied: numpy>=1.23 in /home/ec2-user/anaconda3/envs/JupyterSystemEnv/lib/python3.10/site-packages (from matplotlib>=3.10.1->post-analysis-clustering) (1.26.4)\n",
      "Collecting pillow>=8 (from matplotlib>=3.10.1->post-analysis-clustering)\n",
      "  Downloading pillow-11.2.1-cp310-cp310-manylinux_2_17_x86_64.manylinux2014_x86_64.whl.metadata (8.9 kB)\n",
      "Collecting pyparsing>=2.3.1 (from matplotlib>=3.10.1->post-analysis-clustering)\n",
      "  Downloading pyparsing-3.2.3-py3-none-any.whl.metadata (5.0 kB)\n",
      "Requirement already satisfied: ptyprocess>=0.5 in /home/ec2-user/anaconda3/envs/JupyterSystemEnv/lib/python3.10/site-packages (from pexpect>4.3->ipython>=7.23.1->ipykernel>=6.29.5->post-analysis-clustering) (0.7.0)\n",
      "Requirement already satisfied: narwhals>=1.15.1 in /home/ec2-user/anaconda3/envs/JupyterSystemEnv/lib/python3.10/site-packages (from plotly>=6.0.1->post-analysis-clustering) (1.41.0)\n",
      "Requirement already satisfied: six>=1.5 in /home/ec2-user/anaconda3/envs/JupyterSystemEnv/lib/python3.10/site-packages (from python-dateutil>=2.8.2->jupyter-client>=6.1.12->ipykernel>=6.29.5->post-analysis-clustering) (1.17.0)\n",
      "Collecting scipy>=1.8.0 (from scikit-learn>=1.6.1->post-analysis-clustering)\n",
      "  Downloading scipy-1.15.3-cp310-cp310-manylinux_2_17_x86_64.manylinux2014_x86_64.whl.metadata (61 kB)\n",
      "Collecting joblib>=1.2.0 (from scikit-learn>=1.6.1->post-analysis-clustering)\n",
      "  Downloading joblib-1.5.1-py3-none-any.whl.metadata (5.6 kB)\n",
      "Collecting threadpoolctl>=3.1.0 (from scikit-learn>=1.6.1->post-analysis-clustering)\n",
      "  Downloading threadpoolctl-3.6.0-py3-none-any.whl.metadata (13 kB)\n",
      "Requirement already satisfied: pandas>=1.2 in /home/ec2-user/anaconda3/envs/JupyterSystemEnv/lib/python3.10/site-packages (from seaborn>=0.13.2->post-analysis-clustering) (1.5.3)\n",
      "Requirement already satisfied: pytz>=2020.1 in /home/ec2-user/anaconda3/envs/JupyterSystemEnv/lib/python3.10/site-packages (from pandas>=1.2->seaborn>=0.13.2->post-analysis-clustering) (2025.2)\n",
      "Requirement already satisfied: executing>=1.2.0 in /home/ec2-user/anaconda3/envs/JupyterSystemEnv/lib/python3.10/site-packages (from stack_data->ipython>=7.23.1->ipykernel>=6.29.5->post-analysis-clustering) (2.2.0)\n",
      "Requirement already satisfied: asttokens>=2.1.0 in /home/ec2-user/anaconda3/envs/JupyterSystemEnv/lib/python3.10/site-packages (from stack_data->ipython>=7.23.1->ipykernel>=6.29.5->post-analysis-clustering) (3.0.0)\n",
      "Requirement already satisfied: pure_eval in /home/ec2-user/anaconda3/envs/JupyterSystemEnv/lib/python3.10/site-packages (from stack_data->ipython>=7.23.1->ipykernel>=6.29.5->post-analysis-clustering) (0.2.3)\n",
      "Downloading post_analysis_clustering-0.1.5-py3-none-any.whl (78 kB)\n",
      "Using cached ipykernel-6.29.5-py3-none-any.whl (117 kB)\n",
      "Downloading matplotlib-3.10.3-cp310-cp310-manylinux_2_17_x86_64.manylinux2014_x86_64.whl (8.6 MB)\n",
      "\u001b[2K   \u001b[90m━━━━━━━━━━━━━━━━━━━━━━━━━━━━━━━━━━━━━━━━\u001b[0m \u001b[32m8.6/8.6 MB\u001b[0m \u001b[31m98.5 MB/s\u001b[0m eta \u001b[36m0:00:00\u001b[0m\n",
      "\u001b[?25hDownloading contourpy-1.3.2-cp310-cp310-manylinux_2_17_x86_64.manylinux2014_x86_64.whl (325 kB)\n",
      "Downloading cycler-0.12.1-py3-none-any.whl (8.3 kB)\n",
      "Downloading fonttools-4.58.2-cp310-cp310-manylinux_2_17_x86_64.manylinux2014_x86_64.whl (4.8 MB)\n",
      "\u001b[2K   \u001b[90m━━━━━━━━━━━━━━━━━━━━━━━━━━━━━━━━━━━━━━━━\u001b[0m \u001b[32m4.8/4.8 MB\u001b[0m \u001b[31m126.4 MB/s\u001b[0m eta \u001b[36m0:00:00\u001b[0m\n",
      "\u001b[?25hDownloading kiwisolver-1.4.8-cp310-cp310-manylinux_2_12_x86_64.manylinux2010_x86_64.whl (1.6 MB)\n",
      "\u001b[2K   \u001b[90m━━━━━━━━━━━━━━━━━━━━━━━━━━━━━━━━━━━━━━━━\u001b[0m \u001b[32m1.6/1.6 MB\u001b[0m \u001b[31m135.9 MB/s\u001b[0m eta \u001b[36m0:00:00\u001b[0m\n",
      "\u001b[?25hDownloading pillow-11.2.1-cp310-cp310-manylinux_2_17_x86_64.manylinux2014_x86_64.whl (4.5 MB)\n",
      "\u001b[2K   \u001b[90m━━━━━━━━━━━━━━━━━━━━━━━━━━━━━━━━━━━━━━━━\u001b[0m \u001b[32m4.5/4.5 MB\u001b[0m \u001b[31m112.6 MB/s\u001b[0m eta \u001b[36m0:00:00\u001b[0m\n",
      "\u001b[?25hDownloading pyparsing-3.2.3-py3-none-any.whl (111 kB)\n",
      "Downloading scikit_learn-1.7.0-cp310-cp310-manylinux_2_17_x86_64.manylinux2014_x86_64.whl (12.9 MB)\n",
      "\u001b[2K   \u001b[90m━━━━━━━━━━━━━━━━━━━━━━━━━━━━━━━━━━━━━━━━\u001b[0m \u001b[32m12.9/12.9 MB\u001b[0m \u001b[31m117.1 MB/s\u001b[0m eta \u001b[36m0:00:00\u001b[0m\n",
      "\u001b[?25hDownloading joblib-1.5.1-py3-none-any.whl (307 kB)\n",
      "Downloading scipy-1.15.3-cp310-cp310-manylinux_2_17_x86_64.manylinux2014_x86_64.whl (37.7 MB)\n",
      "\u001b[2K   \u001b[90m━━━━━━━━━━━━━━━━━━━━━━━━━━━━━━━━━━━━━━━━\u001b[0m \u001b[32m37.7/37.7 MB\u001b[0m \u001b[31m176.5 MB/s\u001b[0m eta \u001b[36m0:00:00\u001b[0m00:01\u001b[0m\n",
      "\u001b[?25hDownloading seaborn-0.13.2-py3-none-any.whl (294 kB)\n",
      "Downloading threadpoolctl-3.6.0-py3-none-any.whl (18 kB)\n",
      "Installing collected packages: threadpoolctl, scipy, pyparsing, pillow, kiwisolver, joblib, fonttools, cycler, contourpy, scikit-learn, matplotlib, seaborn, ipykernel, post-analysis-clustering\n",
      "\u001b[2K  Attempting uninstall: ipykernel━━━━━━\u001b[0m\u001b[90m╺\u001b[0m\u001b[90m━━━━━━━━\u001b[0m \u001b[32m11/14\u001b[0m [seaborn]ib]n]\n",
      "\u001b[2K    Found existing installation: ipykernel 5.5.6m\u001b[90m━━━━━━━━\u001b[0m \u001b[32m11/14\u001b[0m [seaborn]\n",
      "\u001b[2K    Uninstalling ipykernel-5.5.6:━━━━━━━━━\u001b[0m\u001b[90m╺\u001b[0m\u001b[90m━━━━━\u001b[0m \u001b[32m12/14\u001b[0m [ipykernel]\n",
      "\u001b[2K      Successfully uninstalled ipykernel-5.5.6\u001b[90m╺\u001b[0m\u001b[90m━━━━━\u001b[0m \u001b[32m12/14\u001b[0m [ipykernel]\n",
      "\u001b[2K   \u001b[90m━━━━━━━━━━━━━━━━━━━━━━━━━━━━━━━━━━━━━━━━\u001b[0m \u001b[32m14/14\u001b[0m [post-analysis-clustering]alysis-clustering]\n",
      "\u001b[1A\u001b[2KSuccessfully installed contourpy-1.3.2 cycler-0.12.1 fonttools-4.58.2 ipykernel-6.29.5 joblib-1.5.1 kiwisolver-1.4.8 matplotlib-3.10.3 pillow-11.2.1 post-analysis-clustering-0.1.5 pyparsing-3.2.3 scikit-learn-1.7.0 scipy-1.15.3 seaborn-0.13.2 threadpoolctl-3.6.0\n"
     ]
    }
   ],
   "source": [
    "!pip install post-analysis-clustering"
   ]
  },
  {
   "cell_type": "code",
   "execution_count": 3,
   "id": "19bdbe53-aed3-4446-85ff-5cb4077a3e44",
   "metadata": {
    "tags": []
   },
   "outputs": [],
   "source": [
    "from post_analysis_clustering.lean_feature.model_creation import ModelCreation\n",
    "from post_analysis_clustering.lean_feature.select_feature_rank import LeanImportanceRank\n",
    "from post_analysis_clustering.lean_feature.select_feature_thres import LeanImportanceThreshold"
   ]
  },
  {
   "cell_type": "code",
   "execution_count": null,
   "id": "ac8badf4-2c11-4c10-bcc6-1ba325678b49",
   "metadata": {},
   "outputs": [],
   "source": []
  }
 ],
 "metadata": {
  "kernelspec": {
   "display_name": "workshop",
   "language": "python",
   "name": "workshop"
  },
  "language_info": {
   "codemirror_mode": {
    "name": "ipython",
    "version": 3
   },
   "file_extension": ".py",
   "mimetype": "text/x-python",
   "name": "python",
   "nbconvert_exporter": "python",
   "pygments_lexer": "ipython3",
   "version": "3.10.8"
  }
 },
 "nbformat": 4,
 "nbformat_minor": 5
}
